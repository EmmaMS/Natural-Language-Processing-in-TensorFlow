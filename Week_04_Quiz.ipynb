{
  "nbformat": 4,
  "nbformat_minor": 0,
  "metadata": {
    "colab": {
      "name": "Week_02_Quiz.ipynb",
      "version": "0.3.2",
      "provenance": [],
      "include_colab_link": true
    },
    "kernelspec": {
      "name": "python3",
      "display_name": "Python 3"
    }
  },
  "cells": [
    {
      "cell_type": "markdown",
      "metadata": {
        "id": "view-in-github",
        "colab_type": "text"
      },
      "source": [
        "<a href=\"https://colab.research.google.com/github/EmmaMS/Natural-Language-Processing-in-TensorFlow/blob/master/Week_04_Quiz.ipynb\" target=\"_parent\"><img src=\"https://colab.research.google.com/assets/colab-badge.svg\" alt=\"Open In Colab\"/></a>"
      ]
    },
    {
      "cell_type": "markdown",
      "metadata": {
        "id": "TsTwWPZphHy6",
        "colab_type": "text"
      },
      "source": [
        "# Week 4 Quiz\n",
        "1. What is the name of the method used to tokenize a list of sentences?\n",
        "> fit_on_texts(sentences)\n",
        "\n",
        "2. If a sentence has 120 tokens in it, and a Conv1D with 128 filters with a Kernal size of 5 is passed over it, what’s the output shape?\n",
        "(None,116,128)\n",
        "\n",
        "\n",
        "3.What is the purpose of the embedding dimension?\n",
        ">It is the number of dimensions for the vector representing the word encoding\n",
        "\n",
        "4. IMDB Reviews are either positive or negative. What type of loss function should be used in this scenario?\n",
        ">Binary Crossentropy\n",
        "\n",
        "  \n",
        "5. If you have a number of sequences of different lengths, how do you ensure that they are understood when fed into a neural network?\n",
        ">Use the pad_sequences object from the tensorflow.keras.preprocessing.sequence namespace\n",
        "\n",
        "  \n",
        "6. When predicting words to generate poetry, the more words predicted the more likely it will end up gibberish. Why?\n",
        "\n",
        "> Because the probability that each word matches an existing phrase goes down the more words you create\n",
        "  \n",
        "\n",
        "7.What is a major drawback of word-based training for text generation instead of character-based generation?\n",
        "\n",
        "\n",
        "> Because there are far more words in a typical corpus than characters, it is much more memory intensive\n",
        "\n",
        "\n",
        "\n",
        "\n",
        "8. How does an LSTM help understand meaning when words that qualify each other aren’t necessarily beside each other in a sentence?\n",
        "\n",
        "Values from earlier words can be carried to later ones via a cell state\n",
        "\n",
        "\n",
        "\n",
        "\n",
        "\n",
        "\n",
        "\n",
        "\n",
        "\n",
        "\n",
        "\n",
        "\n",
        "\n",
        "\n"
      ]
    }
  ]
}