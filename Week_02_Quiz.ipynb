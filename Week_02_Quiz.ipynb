{
  "nbformat": 4,
  "nbformat_minor": 0,
  "metadata": {
    "colab": {
      "name": "Week_02_Quiz.ipynb",
      "version": "0.3.2",
      "provenance": [],
      "include_colab_link": true
    },
    "kernelspec": {
      "name": "python3",
      "display_name": "Python 3"
    }
  },
  "cells": [
    {
      "cell_type": "markdown",
      "metadata": {
        "id": "view-in-github",
        "colab_type": "text"
      },
      "source": [
        "<a href=\"https://colab.research.google.com/github/EmmaMS/Natural-Language-Processing-in-TensorFlow/blob/master/Week_02_Quiz.ipynb\" target=\"_parent\"><img src=\"https://colab.research.google.com/assets/colab-badge.svg\" alt=\"Open In Colab\"/></a>"
      ]
    },
    {
      "cell_type": "markdown",
      "metadata": {
        "id": "TsTwWPZphHy6",
        "colab_type": "text"
      },
      "source": [
        "# Week 2 Quiz\n",
        "1. What is the name of the TensorFlow library containing common data that you can use to train and test neural networks?\n",
        "> TensorFlow Datasets\n",
        "\n",
        "\n",
        "2. How many reviews are there in the IMDB dataset and how are they split?\n",
        ">50,000 records, 50/50 train/test split\n",
        "\n",
        "\n",
        "3.How are the labels for the IMDB dataset encoded?\n",
        ">Reviews encoded as a number 0-1\n",
        "\n",
        "\n",
        "4.What is the purpose of the embedding dimension?\n",
        "> it is the number of dimensions for the vector representing the word encoding\n",
        "\n",
        "  \n",
        "5. When tokenizing a corpus, what does the num_words=n parameter do?\n",
        "\n",
        ">It specifies the maximum number of words to be tokenized, and picks the most common 'n' words\n",
        "\n",
        "  \n",
        "6. To use word embeddings in TensorFlow, in a sequential layer, what is the name of the class? \n",
        "\n",
        "\n",
        "> tf.keras.layers.Embedding\n",
        "  \n",
        "\n",
        "7.IMDB Reviews are either positive or negative. What type of loss function should be used in this scenario?\n",
        "\n",
        "Binary crossentropy\n",
        "\n",
        "\n",
        "8. When using IMDB Sub Words dataset, our results in classification were poor. Why?\n",
        "\n",
        "Sequences becomes much more important when dealing with subwords, but we're ignoring the word position\n",
        "\n",
        "\n",
        "\n",
        "\n",
        "\n",
        "\n",
        "\n",
        "\n",
        "\n",
        "\n",
        "\n",
        "\n",
        "\n",
        "\n"
      ]
    }
  ]
}